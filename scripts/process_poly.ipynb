{
 "cells": [
  {
   "cell_type": "code",
   "execution_count": 3,
   "metadata": {},
   "outputs": [],
   "source": [
    "import json\n",
    "import cv2\n",
    "import numpy as np"
   ]
  },
  {
   "cell_type": "code",
   "execution_count": 4,
   "metadata": {},
   "outputs": [],
   "source": [
    "height = 720\n",
    "width = 360"
   ]
  },
  {
   "cell_type": "code",
   "execution_count": 36,
   "metadata": {},
   "outputs": [],
   "source": [
    "# img = np.zeros((height,width,1), np.uint8)\n",
    "img = np.zeros((20,10,3), np.uint8)\n",
    "\n",
    "pts = np.array([[1,1],[1,9],[4,4]], np.int32)\n",
    "# [x,y]\n",
    "pts = pts.reshape((-1,1,2))\n",
    "img = cv2.polylines(img,[pts],True,(255,255,255))"
   ]
  },
  {
   "cell_type": "code",
   "execution_count": 37,
   "metadata": {},
   "outputs": [
    {
     "data": {
      "text/plain": [
       "True"
      ]
     },
     "execution_count": 37,
     "metadata": {},
     "output_type": "execute_result"
    }
   ],
   "source": [
    "cv2.imwrite('hoge.png', img)"
   ]
  },
  {
   "cell_type": "code",
   "execution_count": 77,
   "metadata": {},
   "outputs": [],
   "source": [
    "with open('./VID_cropped.json') as f:\n",
    "    dat = json.load(f)"
   ]
  },
  {
   "cell_type": "code",
   "execution_count": 78,
   "metadata": {},
   "outputs": [],
   "source": [
    "dat = dat['_via_img_metadata']"
   ]
  },
  {
   "cell_type": "code",
   "execution_count": 79,
   "metadata": {},
   "outputs": [],
   "source": [
    "mask_dat= []\n",
    "for _,val in dat.items():\n",
    "#     print(key,val)\n",
    "    filename = val['filename']\n",
    "    img = np.zeros((height,width,3), np.uint8)\n",
    "    img.fill(255)\n",
    "    regions = val['regions']\n",
    "    if len(regions)==0:\n",
    "        continue\n",
    "    \n",
    "    lines = []\n",
    "    for region in regions:\n",
    "        shape = region['shape_attributes']\n",
    "        pts = []\n",
    "        for x,y in zip(shape['all_points_x'],shape['all_points_y']):\n",
    "            pts.append([x,y])\n",
    "        pts = np.array(pts)\n",
    "        pts = pts.reshape((-1,1,2))\n",
    "        lines.append(pts)\n",
    "    img = cv2.polylines(img,lines,True,(0,0,0))\n",
    "    img = img.transpose((1,0,2))\n",
    "    img = img.tolist()\n",
    "    img_p = []\n",
    "    for row in img:\n",
    "        row_p = []\n",
    "        bi_px = 0\n",
    "        for px in row:\n",
    "            if px==[0,0,0]:\n",
    "                bi_px = 1\n",
    "            row_p.append(bi_px)\n",
    "        img_p.append(row_p)\n",
    "    \n",
    "    img_p = np.array(img_p)\n",
    "    img_p = img_p.transpose((1,0))\n",
    "    \n",
    "\n",
    "    mask_dat.append({\n",
    "        'filename':filename,\n",
    "        'img':img_p.tolist()\n",
    "    })"
   ]
  },
  {
   "cell_type": "code",
   "execution_count": 53,
   "metadata": {},
   "outputs": [
    {
     "data": {
      "text/plain": [
       "True"
      ]
     },
     "execution_count": 53,
     "metadata": {},
     "output_type": "execute_result"
    }
   ],
   "source": [
    "# cv2.imwrite('fuga.png', mask_dat[0]['img'])"
   ]
  },
  {
   "cell_type": "code",
   "execution_count": 81,
   "metadata": {},
   "outputs": [],
   "source": [
    "img2 = mask_dat[0]['img']\n",
    "img3 = [[[0,0,0] if px==1 else [255,255,255] for px in row] for row in img2]"
   ]
  },
  {
   "cell_type": "code",
   "execution_count": 82,
   "metadata": {},
   "outputs": [
    {
     "data": {
      "text/plain": [
       "True"
      ]
     },
     "execution_count": 82,
     "metadata": {},
     "output_type": "execute_result"
    }
   ],
   "source": [
    "cv2.imwrite('fuga.png', np.array(img3))"
   ]
  },
  {
   "cell_type": "code",
   "execution_count": 69,
   "metadata": {},
   "outputs": [],
   "source": [
    "# mask_dat_2 = []\n",
    "# for dat in mask_dat:\n",
    "#     mask_dat_2.append({\n",
    "#         'filename':dat['filename'],\n",
    "#         'img':dat['img'].tolist()\n",
    "#     })"
   ]
  },
  {
   "cell_type": "code",
   "execution_count": 80,
   "metadata": {},
   "outputs": [],
   "source": [
    "with open('VAD_cropped.mask.json','w') as f:\n",
    "    json.dump(mask_dat,f)"
   ]
  },
  {
   "cell_type": "code",
   "execution_count": null,
   "metadata": {},
   "outputs": [],
   "source": []
  },
  {
   "cell_type": "code",
   "execution_count": null,
   "metadata": {},
   "outputs": [],
   "source": []
  },
  {
   "cell_type": "code",
   "execution_count": 90,
   "metadata": {},
   "outputs": [],
   "source": [
    "mask_dat= []"
   ]
  },
  {
   "cell_type": "code",
   "execution_count": 91,
   "metadata": {},
   "outputs": [],
   "source": [
    "with open('./VID_cropped.json') as f:\n",
    "    dat = json.load(f)\n",
    "    dat = dat['_via_img_metadata']\n",
    "\n",
    "\n",
    "for _,val in dat.items():\n",
    "#     print(key,val)\n",
    "    filename = val['filename']\n",
    "    img = np.zeros((height,width,3), np.uint8)\n",
    "    img.fill(255)\n",
    "    regions = val['regions']\n",
    "    if len(regions)==0:\n",
    "        continue\n",
    "    \n",
    "    lines = []\n",
    "    for region in regions:\n",
    "        shape = region['shape_attributes']\n",
    "        pts = []\n",
    "        for x,y in zip(shape['all_points_x'],shape['all_points_y']):\n",
    "            pts.append([x,y])\n",
    "        pts = np.array(pts)\n",
    "        pts = pts.reshape((-1,1,2))\n",
    "        lines.append(pts)\n",
    "    img = cv2.polylines(img,lines,True,(0,0,0))\n",
    "    img = img.transpose((1,0,2))\n",
    "    img = img.tolist()\n",
    "    img_p = []\n",
    "    for row in img:\n",
    "        row_p = []\n",
    "        bi_px = 0\n",
    "        for px in row:\n",
    "            if px==[0,0,0]:\n",
    "                bi_px = 1\n",
    "            row_p.append(bi_px)\n",
    "        img_p.append(row_p)\n",
    "    \n",
    "    img_p = np.array(img_p)\n",
    "    img_p = img_p.transpose((1,0))\n",
    "    \n",
    "\n",
    "    mask_dat.append({\n",
    "        'filename':filename,\n",
    "        'img':img_p.tolist()\n",
    "    })"
   ]
  },
  {
   "cell_type": "code",
   "execution_count": 92,
   "metadata": {},
   "outputs": [],
   "source": [
    "with open('./VID_cropped_2.json') as f:\n",
    "    dat = json.load(f)\n",
    "    dat = dat['_via_img_metadata']\n",
    "\n",
    "\n",
    "for _,val in dat.items():\n",
    "#     print(key,val)\n",
    "    filename = val['filename']\n",
    "    img = np.zeros((height,width,3), np.uint8)\n",
    "    img.fill(255)\n",
    "    regions = val['regions']\n",
    "    if len(regions)==0:\n",
    "        continue\n",
    "    \n",
    "    lines = []\n",
    "    for region in regions:\n",
    "        shape = region['shape_attributes']\n",
    "        pts = []\n",
    "        for x,y in zip(shape['all_points_x'],shape['all_points_y']):\n",
    "            pts.append([x,y])\n",
    "        pts = np.array(pts)\n",
    "        pts = pts.reshape((-1,1,2))\n",
    "        lines.append(pts)\n",
    "    img = cv2.polylines(img,lines,True,(0,0,0))\n",
    "    img = img.transpose((1,0,2))\n",
    "    img = img.tolist()\n",
    "    img_p = []\n",
    "    for row in img:\n",
    "        row_p = []\n",
    "        bi_px = 0\n",
    "        for px in row:\n",
    "            if px==[0,0,0]:\n",
    "                bi_px = 1\n",
    "            row_p.append(bi_px)\n",
    "        img_p.append(row_p)\n",
    "    \n",
    "    img_p = np.array(img_p)\n",
    "    img_p = img_p.transpose((1,0))\n",
    "    \n",
    "\n",
    "    mask_dat.append({\n",
    "        'filename':filename,\n",
    "        'img':img_p.tolist()\n",
    "    })"
   ]
  },
  {
   "cell_type": "code",
   "execution_count": 93,
   "metadata": {},
   "outputs": [],
   "source": [
    "with open('./VID_cropped_3.json') as f:\n",
    "    dat = json.load(f)\n",
    "    dat = dat['_via_img_metadata']\n",
    "\n",
    "\n",
    "for _,val in dat.items():\n",
    "#     print(key,val)\n",
    "    filename = val['filename']\n",
    "    img = np.zeros((height,width,3), np.uint8)\n",
    "    img.fill(255)\n",
    "    regions = val['regions']\n",
    "    if len(regions)==0:\n",
    "        continue\n",
    "    \n",
    "    lines = []\n",
    "    for region in regions:\n",
    "        shape = region['shape_attributes']\n",
    "        pts = []\n",
    "        for x,y in zip(shape['all_points_x'],shape['all_points_y']):\n",
    "            pts.append([x,y])\n",
    "        pts = np.array(pts)\n",
    "        pts = pts.reshape((-1,1,2))\n",
    "        lines.append(pts)\n",
    "    img = cv2.polylines(img,lines,True,(0,0,0))\n",
    "    img = img.transpose((1,0,2))\n",
    "    img = img.tolist()\n",
    "    img_p = []\n",
    "    for row in img:\n",
    "        row_p = []\n",
    "        bi_px = 0\n",
    "        for px in row:\n",
    "            if px==[0,0,0]:\n",
    "                bi_px = 1\n",
    "            row_p.append(bi_px)\n",
    "        img_p.append(row_p)\n",
    "    \n",
    "    img_p = np.array(img_p)\n",
    "    img_p = img_p.transpose((1,0))\n",
    "    \n",
    "\n",
    "    mask_dat.append({\n",
    "        'filename':filename,\n",
    "        'img':img_p.tolist()\n",
    "    })"
   ]
  },
  {
   "cell_type": "code",
   "execution_count": 94,
   "metadata": {},
   "outputs": [
    {
     "data": {
      "text/plain": [
       "181"
      ]
     },
     "execution_count": 94,
     "metadata": {},
     "output_type": "execute_result"
    }
   ],
   "source": [
    "len(mask_dat)"
   ]
  },
  {
   "cell_type": "code",
   "execution_count": null,
   "metadata": {},
   "outputs": [],
   "source": []
  },
  {
   "cell_type": "code",
   "execution_count": 95,
   "metadata": {},
   "outputs": [],
   "source": [
    "with open('VAD_cropped.mask.json','w') as f:\n",
    "    json.dump(mask_dat,f)"
   ]
  },
  {
   "cell_type": "code",
   "execution_count": null,
   "metadata": {},
   "outputs": [],
   "source": []
  },
  {
   "cell_type": "code",
   "execution_count": null,
   "metadata": {},
   "outputs": [],
   "source": []
  },
  {
   "cell_type": "code",
   "execution_count": 99,
   "metadata": {},
   "outputs": [],
   "source": [
    "def parse_cropped(path):\n",
    "#     with open('./VID_cropped.json') as f:\n",
    "    with open(path) as f:\n",
    "        dat = json.load(f)\n",
    "        dat = dat['_via_img_metadata']\n",
    "    \n",
    "    image_dat= []\n",
    "    for _,val in dat.items():\n",
    "    #     print(key,val)\n",
    "        filename = val['filename']\n",
    "        img = np.zeros((height,width,3), np.uint8)\n",
    "        img.fill(255)\n",
    "        regions = val['regions']\n",
    "        if len(regions)==0:\n",
    "            continue\n",
    "\n",
    "        lines = []\n",
    "        for region in regions:\n",
    "            shape = region['shape_attributes']\n",
    "            pts = []\n",
    "            for x,y in zip(shape['all_points_x'],shape['all_points_y']):\n",
    "                pts.append([x,y])\n",
    "            pts = np.array(pts)\n",
    "            pts = pts.reshape((-1,1,2))\n",
    "            lines.append(pts)\n",
    "        img = cv2.polylines(img,lines,True,(0,0,0))\n",
    "        img = img.transpose((1,0,2))\n",
    "        img = img.tolist()\n",
    "        img_p = []\n",
    "        for x,row in enumerate(img):\n",
    "            row_p = []\n",
    "            for y,px in enumerate(row):\n",
    "                if px==[0,0,0]:\n",
    "                    img_p.append({\n",
    "                        'x':x,\n",
    "                        'y':y\n",
    "                    })\n",
    "                    break\n",
    "\n",
    "        image_dat.append({\n",
    "            'filename':filename,\n",
    "            'img':img_p\n",
    "        })\n",
    "    return image_dat"
   ]
  },
  {
   "cell_type": "code",
   "execution_count": 100,
   "metadata": {},
   "outputs": [],
   "source": [
    "# unite VAD_cropped_n.json\n",
    "dat1 = parse_cropped('./VID_cropped.json')"
   ]
  },
  {
   "cell_type": "code",
   "execution_count": 103,
   "metadata": {},
   "outputs": [],
   "source": [
    "dat2 = parse_cropped('./VID_cropped_2.json')"
   ]
  },
  {
   "cell_type": "code",
   "execution_count": 104,
   "metadata": {},
   "outputs": [],
   "source": [
    "dat3 = parse_cropped('./VID_cropped_3.json')"
   ]
  },
  {
   "cell_type": "code",
   "execution_count": 114,
   "metadata": {},
   "outputs": [],
   "source": [
    "dat = []\n",
    "\n",
    "dat.extend(dat1)\n",
    "dat.extend(dat2)\n",
    "dat.extend(dat3)"
   ]
  },
  {
   "cell_type": "code",
   "execution_count": 129,
   "metadata": {},
   "outputs": [],
   "source": [
    "import re"
   ]
  },
  {
   "cell_type": "code",
   "execution_count": 134,
   "metadata": {},
   "outputs": [],
   "source": [
    "for idx,elem in enumerate(dat):\n",
    "    num = int(re.sub(r'\\D', '', elem['filename']))\n",
    "    dat[idx]['id'] = num"
   ]
  },
  {
   "cell_type": "code",
   "execution_count": 138,
   "metadata": {},
   "outputs": [],
   "source": [
    "dat = sorted(dat,key=lambda x:x['id'])"
   ]
  },
  {
   "cell_type": "code",
   "execution_count": 144,
   "metadata": {},
   "outputs": [
    {
     "name": "stdout",
     "output_type": "stream",
     "text": [
      "[1, 2, 3, 4, 5, 4, 7, 8, 9, 10, 11, 12, 13, 14, 15, 16, 17, 18, 19, 20, 21, 22, 23, 25, 26, 27, 28, 29, 30, 31, 32, 33, 34, 35, 36, 37, 38, 39, 40, 41, 42, 43, 44, 45, 46, 47, 48, 49, 51, 52, 53, 54, 55, 56, 57, 58, 59, 60, 61, 62, 63, 64, 65, 66, 67, 68, 69, 70, 71, 72, 73, 74, 75, 76, 77, 78, 79, 80, 81, 82, 83, 84, 85, 86, 87, 88, 89, 90, 91, 92, 93, 94, 95, 96, 97, 98, 99, 100, 101, 102, 103, 104, 105, 106, 107, 108, 109, 110, 111, 112, 113, 114, 115, 116, 117, 118, 119, 120, 121, 122, 123, 124, 125, 126, 127, 128, 129, 130, 131, 132, 133, 134, 135, 136, 137, 138, 139, 140, 141, 142, 143, 144, 145, 146, 147, 148, 149, 150, 151, 152, 153, 154, 155, 156, 157, 158, 159, 160, 161, 162, 163, 164, 165, 166, 167, 168, 169, 170, 171, 172, 173, 174, 175, 176, 177, 178, 179, 180, 181, 182, 183]\n"
     ]
    },
    {
     "data": {
      "text/plain": [
       "181"
      ]
     },
     "execution_count": 144,
     "metadata": {},
     "output_type": "execute_result"
    }
   ],
   "source": [
    "ids = []\n",
    "for elem in dat:\n",
    "    ids.append(elem['id'])\n",
    "print(ids)\n",
    "len(ids)"
   ]
  },
  {
   "cell_type": "code",
   "execution_count": 142,
   "metadata": {},
   "outputs": [],
   "source": [
    "def temp(idx):\n",
    "    res = dat[idx+1]\n",
    "    res['id'] = idx\n",
    "    return res"
   ]
  },
  {
   "cell_type": "code",
   "execution_count": 145,
   "metadata": {},
   "outputs": [],
   "source": [
    "dat.append(temp(24))\n",
    "dat.append(temp(50))"
   ]
  },
  {
   "cell_type": "code",
   "execution_count": 146,
   "metadata": {},
   "outputs": [],
   "source": [
    "dat = sorted(dat,key=lambda x:x['id'])"
   ]
  },
  {
   "cell_type": "code",
   "execution_count": 147,
   "metadata": {},
   "outputs": [
    {
     "name": "stdout",
     "output_type": "stream",
     "text": [
      "183\n"
     ]
    }
   ],
   "source": [
    "print(len(dat))"
   ]
  },
  {
   "cell_type": "code",
   "execution_count": 148,
   "metadata": {},
   "outputs": [],
   "source": [
    "with open('VID_cropped.max.json','w') as f:\n",
    "    json.dump(dat,f)"
   ]
  },
  {
   "cell_type": "code",
   "execution_count": null,
   "metadata": {},
   "outputs": [],
   "source": []
  },
  {
   "cell_type": "code",
   "execution_count": null,
   "metadata": {},
   "outputs": [],
   "source": []
  },
  {
   "cell_type": "markdown",
   "metadata": {},
   "source": [
    "## predictされたデータを変換する"
   ]
  },
  {
   "cell_type": "code",
   "execution_count": 5,
   "metadata": {},
   "outputs": [],
   "source": [
    "with open('./movie_mask_250.json') as f:\n",
    "    dat = json.load(f)"
   ]
  },
  {
   "cell_type": "code",
   "execution_count": 153,
   "metadata": {},
   "outputs": [
    {
     "data": {
      "text/plain": [
       "True"
      ]
     },
     "execution_count": 153,
     "metadata": {},
     "output_type": "execute_result"
    }
   ],
   "source": [
    "# 10frame目のデータをfuga.pngとして出力してみる\n",
    "img2 = dat[10]\n",
    "img3 = [[[0,0,0] if px==1 else [255,255,255] for px in row] for row in img2]\n",
    "cv2.imwrite('fuga.png', np.array(img3))"
   ]
  },
  {
   "cell_type": "code",
   "execution_count": 6,
   "metadata": {},
   "outputs": [
    {
     "data": {
      "text/plain": [
       "(250, 720, 360)"
      ]
     },
     "execution_count": 6,
     "metadata": {},
     "output_type": "execute_result"
    }
   ],
   "source": [
    "dat = np.array(dat)\n",
    "dat.shape # frame * y * x"
   ]
  },
  {
   "cell_type": "code",
   "execution_count": 9,
   "metadata": {},
   "outputs": [],
   "source": [
    "idx = 101\n",
    "dat = np.array(dat).transpose(0,2,1) # frame * x * y にする\n",
    "dat = dat.tolist()\n",
    "dat_parse = []\n",
    "for frame in dat:\n",
    "    img = []\n",
    "    for x,col in enumerate(frame):\n",
    "        for y,px in enumerate(col):\n",
    "            # 各xについて,y方向の上から見ていき, 1が現れたらその座標を記録して次のxに\n",
    "            if px==1:\n",
    "                img.append({\n",
    "                    'x':x,\n",
    "                    'y':y\n",
    "                })\n",
    "                break\n",
    "    dat_parse.append({\n",
    "        'id':idx,\n",
    "        'img':img\n",
    "    })\n",
    "    idx += 1\n"
   ]
  },
  {
   "cell_type": "code",
   "execution_count": 10,
   "metadata": {},
   "outputs": [],
   "source": [
    "with open('VID_250_mask.json','w') as f:\n",
    "    json.dump(dat_parse,f)"
   ]
  },
  {
   "cell_type": "code",
   "execution_count": null,
   "metadata": {},
   "outputs": [],
   "source": []
  }
 ],
 "metadata": {
  "kernelspec": {
   "display_name": "Python 3",
   "language": "python",
   "name": "python3"
  },
  "language_info": {
   "codemirror_mode": {
    "name": "ipython",
    "version": 3
   },
   "file_extension": ".py",
   "mimetype": "text/x-python",
   "name": "python",
   "nbconvert_exporter": "python",
   "pygments_lexer": "ipython3",
   "version": "3.6.3"
  }
 },
 "nbformat": 4,
 "nbformat_minor": 2
}
